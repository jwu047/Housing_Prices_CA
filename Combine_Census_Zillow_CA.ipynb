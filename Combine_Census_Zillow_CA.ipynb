{
 "cells": [
  {
   "cell_type": "code",
   "execution_count": 1,
   "metadata": {},
   "outputs": [],
   "source": [
    "%matplotlib inline\n",
    "# Dependencies and Setup\n",
    "import matplotlib.pyplot as plt\n",
    "import pandas as pd\n",
    "import numpy as np"
   ]
  },
  {
   "cell_type": "code",
   "execution_count": 2,
   "metadata": {},
   "outputs": [],
   "source": [
    "#Zillow CA Data\n",
    "zillow_ca_df=pd.read_csv(\"zillow_ca_homevalue.csv\")\n",
    "#Census CA Data\n",
    "census_pd=pd.read_csv(\"census_data.csv\")\n"
   ]
  },
  {
   "cell_type": "code",
   "execution_count": 3,
   "metadata": {},
   "outputs": [
    {
     "ename": "KeyError",
     "evalue": "'Zipcode'",
     "output_type": "error",
     "traceback": [
      "\u001b[0;31m---------------------------------------------------------------------------\u001b[0m",
      "\u001b[0;31mKeyError\u001b[0m                                  Traceback (most recent call last)",
      "\u001b[0;32m<ipython-input-3-f0e8d8ddf6e8>\u001b[0m in \u001b[0;36m<module>\u001b[0;34m()\u001b[0m\n\u001b[0;32m----> 1\u001b[0;31m \u001b[0mcombined_ca\u001b[0m \u001b[0;34m=\u001b[0m \u001b[0mpd\u001b[0m\u001b[0;34m.\u001b[0m\u001b[0mmerge\u001b[0m\u001b[0;34m(\u001b[0m\u001b[0mcensus_pd\u001b[0m\u001b[0;34m,\u001b[0m \u001b[0mzillow_ca_df\u001b[0m\u001b[0;34m,\u001b[0m \u001b[0mon\u001b[0m\u001b[0;34m=\u001b[0m\u001b[0;34m\"Zipcode\"\u001b[0m\u001b[0;34m)\u001b[0m\u001b[0;34m\u001b[0m\u001b[0m\n\u001b[0m\u001b[1;32m      2\u001b[0m combined_ca[\"Avg_HomeValue\"]= (combined_ca[\"2016-01\"]+combined_ca[\"2016-02\"]+combined_ca[\"2016-03\"]+combined_ca[\"2016-04\"]+\n\u001b[1;32m      3\u001b[0m                               \u001b[0mcombined_ca\u001b[0m\u001b[0;34m[\u001b[0m\u001b[0;34m\"2016-05\"\u001b[0m\u001b[0;34m]\u001b[0m\u001b[0;34m+\u001b[0m\u001b[0mcombined_ca\u001b[0m\u001b[0;34m[\u001b[0m\u001b[0;34m\"2016-06\"\u001b[0m\u001b[0;34m]\u001b[0m\u001b[0;34m+\u001b[0m\u001b[0mcombined_ca\u001b[0m\u001b[0;34m[\u001b[0m\u001b[0;34m\"2016-07\"\u001b[0m\u001b[0;34m]\u001b[0m\u001b[0;34m+\u001b[0m\u001b[0mcombined_ca\u001b[0m\u001b[0;34m[\u001b[0m\u001b[0;34m\"2016-08\"\u001b[0m\u001b[0;34m]\u001b[0m\u001b[0;34m+\u001b[0m\u001b[0;34m\u001b[0m\u001b[0m\n\u001b[1;32m      4\u001b[0m                               combined_ca[\"2016-09\"]+combined_ca[\"2016-10\"]+combined_ca[\"2016-11\"]+combined_ca[\"2016-12\"])/12\n\u001b[1;32m      5\u001b[0m combined_ca = combined_ca[[\"Zipcode\",\"City\",\"State\",\"CountyName\",\"Population\", \"Median Age\", \"Household Income\",\n",
      "\u001b[0;32m~/anaconda3/envs/PythonData/lib/python3.6/site-packages/pandas/core/reshape/merge.py\u001b[0m in \u001b[0;36mmerge\u001b[0;34m(left, right, how, on, left_on, right_on, left_index, right_index, sort, suffixes, copy, indicator, validate)\u001b[0m\n\u001b[1;32m     58\u001b[0m                          \u001b[0mright_index\u001b[0m\u001b[0;34m=\u001b[0m\u001b[0mright_index\u001b[0m\u001b[0;34m,\u001b[0m \u001b[0msort\u001b[0m\u001b[0;34m=\u001b[0m\u001b[0msort\u001b[0m\u001b[0;34m,\u001b[0m \u001b[0msuffixes\u001b[0m\u001b[0;34m=\u001b[0m\u001b[0msuffixes\u001b[0m\u001b[0;34m,\u001b[0m\u001b[0;34m\u001b[0m\u001b[0m\n\u001b[1;32m     59\u001b[0m                          \u001b[0mcopy\u001b[0m\u001b[0;34m=\u001b[0m\u001b[0mcopy\u001b[0m\u001b[0;34m,\u001b[0m \u001b[0mindicator\u001b[0m\u001b[0;34m=\u001b[0m\u001b[0mindicator\u001b[0m\u001b[0;34m,\u001b[0m\u001b[0;34m\u001b[0m\u001b[0m\n\u001b[0;32m---> 60\u001b[0;31m                          validate=validate)\n\u001b[0m\u001b[1;32m     61\u001b[0m     \u001b[0;32mreturn\u001b[0m \u001b[0mop\u001b[0m\u001b[0;34m.\u001b[0m\u001b[0mget_result\u001b[0m\u001b[0;34m(\u001b[0m\u001b[0;34m)\u001b[0m\u001b[0;34m\u001b[0m\u001b[0m\n\u001b[1;32m     62\u001b[0m \u001b[0;34m\u001b[0m\u001b[0m\n",
      "\u001b[0;32m~/anaconda3/envs/PythonData/lib/python3.6/site-packages/pandas/core/reshape/merge.py\u001b[0m in \u001b[0;36m__init__\u001b[0;34m(self, left, right, how, on, left_on, right_on, axis, left_index, right_index, sort, suffixes, copy, indicator, validate)\u001b[0m\n\u001b[1;32m    548\u001b[0m         (self.left_join_keys,\n\u001b[1;32m    549\u001b[0m          \u001b[0mself\u001b[0m\u001b[0;34m.\u001b[0m\u001b[0mright_join_keys\u001b[0m\u001b[0;34m,\u001b[0m\u001b[0;34m\u001b[0m\u001b[0m\n\u001b[0;32m--> 550\u001b[0;31m          self.join_names) = self._get_merge_keys()\n\u001b[0m\u001b[1;32m    551\u001b[0m \u001b[0;34m\u001b[0m\u001b[0m\n\u001b[1;32m    552\u001b[0m         \u001b[0;31m# validate the merge keys dtypes. We may need to coerce\u001b[0m\u001b[0;34m\u001b[0m\u001b[0;34m\u001b[0m\u001b[0m\n",
      "\u001b[0;32m~/anaconda3/envs/PythonData/lib/python3.6/site-packages/pandas/core/reshape/merge.py\u001b[0m in \u001b[0;36m_get_merge_keys\u001b[0;34m(self)\u001b[0m\n\u001b[1;32m    854\u001b[0m                             right_keys.append(\n\u001b[1;32m    855\u001b[0m                                 right._get_label_or_level_values(\n\u001b[0;32m--> 856\u001b[0;31m                                     rk, stacklevel=stacklevel))\n\u001b[0m\u001b[1;32m    857\u001b[0m                         \u001b[0;32melse\u001b[0m\u001b[0;34m:\u001b[0m\u001b[0;34m\u001b[0m\u001b[0m\n\u001b[1;32m    858\u001b[0m                             \u001b[0;31m# work-around for merge_asof(right_index=True)\u001b[0m\u001b[0;34m\u001b[0m\u001b[0;34m\u001b[0m\u001b[0m\n",
      "\u001b[0;32m~/anaconda3/envs/PythonData/lib/python3.6/site-packages/pandas/core/generic.py\u001b[0m in \u001b[0;36m_get_label_or_level_values\u001b[0;34m(self, key, axis, stacklevel)\u001b[0m\n\u001b[1;32m   1377\u001b[0m             \u001b[0mvalues\u001b[0m \u001b[0;34m=\u001b[0m \u001b[0mself\u001b[0m\u001b[0;34m.\u001b[0m\u001b[0maxes\u001b[0m\u001b[0;34m[\u001b[0m\u001b[0maxis\u001b[0m\u001b[0;34m]\u001b[0m\u001b[0;34m.\u001b[0m\u001b[0mget_level_values\u001b[0m\u001b[0;34m(\u001b[0m\u001b[0mkey\u001b[0m\u001b[0;34m)\u001b[0m\u001b[0;34m.\u001b[0m\u001b[0m_values\u001b[0m\u001b[0;34m\u001b[0m\u001b[0m\n\u001b[1;32m   1378\u001b[0m         \u001b[0;32melse\u001b[0m\u001b[0;34m:\u001b[0m\u001b[0;34m\u001b[0m\u001b[0m\n\u001b[0;32m-> 1379\u001b[0;31m             \u001b[0;32mraise\u001b[0m \u001b[0mKeyError\u001b[0m\u001b[0;34m(\u001b[0m\u001b[0mkey\u001b[0m\u001b[0;34m)\u001b[0m\u001b[0;34m\u001b[0m\u001b[0m\n\u001b[0m\u001b[1;32m   1380\u001b[0m \u001b[0;34m\u001b[0m\u001b[0m\n\u001b[1;32m   1381\u001b[0m         \u001b[0;31m# Check for duplicates\u001b[0m\u001b[0;34m\u001b[0m\u001b[0;34m\u001b[0m\u001b[0m\n",
      "\u001b[0;31mKeyError\u001b[0m: 'Zipcode'"
     ]
    }
   ],
   "source": [
    "combined_ca = pd.merge(census_pd, zillow_ca_df, on=\"Zipcode\")\n",
    "combined_ca[\"Avg_HomeValue\"]= (combined_ca[\"2016-01\"]+combined_ca[\"2016-02\"]+combined_ca[\"2016-03\"]+combined_ca[\"2016-04\"]+\n",
    "                              combined_ca[\"2016-05\"]+combined_ca[\"2016-06\"]+combined_ca[\"2016-07\"]+combined_ca[\"2016-08\"]+\n",
    "                              combined_ca[\"2016-09\"]+combined_ca[\"2016-10\"]+combined_ca[\"2016-11\"]+combined_ca[\"2016-12\"])/12\n",
    "combined_ca = combined_ca[[\"Zipcode\",\"City\",\"State\",\"CountyName\",\"Population\", \"Median Age\", \"Household Income\",\n",
    "                       \"Per Capita Income\", \"Poverty Count\", \"Poverty Rate\",\"average rent\",\"Median Home Value\",\"Number of House Build in year\",\"Avg_HomeValue\",\"Employment Rate\"]]\n",
    "combined_ca.head(10)\n",
    "#csv\n",
    "combined_ca.to_csv(\"Census_Zillow_Combined_CA.csv\",index = False)\n"
   ]
  },
  {
   "cell_type": "code",
   "execution_count": null,
   "metadata": {},
   "outputs": [],
   "source": [
    "#Groupby County\n",
    "\n",
    "combined_county = combined_ca.groupby(\"CountyName\")\n",
    "combined_county_city = combined_county [\"City\"].count()\n",
    "combined_county_city"
   ]
  },
  {
   "cell_type": "code",
   "execution_count": null,
   "metadata": {},
   "outputs": [],
   "source": [
    "# create bin for age range added into combined data sheet\n",
    "age_bins=[0,20,30,40,50,60,70]\n",
    "age_group=[\"0-20\",\"21-30\",\"31-40\",\"41-50\",\"51-60\",\"61-70\"]\n",
    "combined_ca[\"Age Range\"] = pd.cut(combined_ca[\"Median Age\"], age_bins, labels=age_group)\n",
    "combined_ca.head(10)"
   ]
  },
  {
   "cell_type": "code",
   "execution_count": null,
   "metadata": {},
   "outputs": [],
   "source": [
    "#sort the data based on Media Home Value\n",
    "combined_ca=combined_ca.sort_values([\"Median Home Value\"],ascending=False)\n",
    "combined_ca=combined_ca.reset_index(drop=True)\n",
    "combined_ca.head(20)\n",
    "#get top 20 highest Home Value City\n",
    "top_20_homevalue = combined_ca.head(10)\n",
    "top_20_homevalue"
   ]
  },
  {
   "cell_type": "code",
   "execution_count": null,
   "metadata": {},
   "outputs": [],
   "source": [
    "#Clean the non value data in Census \"-6666666666\"\n",
    "combined_ca = combined_ca.loc[(combined_ca[\"Household Income\"]>0)]\n",
    "#scatter chart Home Value vs population and Household Income\n",
    "plot_1 = combined_ca.plot(kind = \"scatter\",x = \"Household Income\",y = \"Median Home Value\",s= combined_ca[\"Population\"]/500,\n",
    "                           c = \"y\",grid = True, edgecolors=\"black\",alpha =.8,linewidths =1,title = \"2016 Media Home Value vs Household Income and Population\" )"
   ]
  },
  {
   "cell_type": "code",
   "execution_count": null,
   "metadata": {},
   "outputs": [],
   "source": [
    "#Clean the non value data in Census \"-6666666666\"\n",
    "combined_ca = combined_ca.loc[(combined_ca[\"average rent\"]>0)]\n",
    "#scatter chart Avgerage Rent vs  Household Income and population\n",
    "plot_3 = combined_ca.plot(kind = \"scatter\",x = \"Household Income\",y = \"average rent\",s= combined_ca[\"Population\"]/500,\n",
    "                           c = \"red\",grid = True, edgecolors=\"black\",alpha =.8,linewidths =1,\n",
    "                          title = \"2016 Average Rent vs Household Income and population\" )"
   ]
  },
  {
   "cell_type": "code",
   "execution_count": null,
   "metadata": {},
   "outputs": [],
   "source": [
    "#scatter chart Home Value vs age \n",
    "plot_2 = combined_ca.plot(kind = \"scatter\",x = \"Median Age\",y = \"Median Home Value\",s= combined_ca[\"Population\"]/500,\n",
    "                           c = \"blue\",grid = True, edgecolors=\"black\",alpha =.8,linewidths =1,\n",
    "                          title = \"2016 Media Home Value vs Median Age and Population\" )"
   ]
  },
  {
   "cell_type": "code",
   "execution_count": null,
   "metadata": {},
   "outputs": [],
   "source": [
    "#Clean the non value data in Census \"-6666666666\"\n",
    "combined_ca = combined_ca.loc[(combined_ca[\"average rent\"]>0)]\n",
    "#scatter chart Avgerage Rent vs age and population\n",
    "plot_3 = combined_ca.plot(kind = \"scatter\",x = \"Median Age\",y = \"average rent\",s= combined_ca[\"Population\"]/500,\n",
    "                           c = \"red\",grid = True, edgecolors=\"black\",alpha =.8,linewidths =1,\n",
    "                          title = \"2016 Average Rent vs Median Age and population\" )"
   ]
  },
  {
   "cell_type": "code",
   "execution_count": null,
   "metadata": {},
   "outputs": [],
   "source": [
    "#Clean the non value data in Census \"-6666666666\"\n",
    "combined_ca = combined_ca.loc[(combined_ca[\"Household Income\"]>0)]\n",
    "#scatter chart Home Value vs population and Household Income\n",
    "plot_1 = combined_ca.plot(kind = \"scatter\",x = \"Employment Rate\",y = \"Median Home Value\",\n",
    "                           c = \"y\",grid = True, edgecolors=\"black\",alpha =.8,linewidths =1,title = \"2016 Media Home Value vs employment rate and Population\" )"
   ]
  },
  {
   "cell_type": "code",
   "execution_count": null,
   "metadata": {},
   "outputs": [],
   "source": [
    "#Clean the non value data in Census \"-6666666666\"\n",
    "combined_ca = combined_ca.loc[(combined_ca[\"Number of House Build in year\"]>0)]\n",
    "#scatter chart Home Value vs population and Household Income\n",
    "plot_1 = combined_ca.plot(kind = \"scatter\",x = \"Number of House Build in year\",y = \"Median Home Value\",\n",
    "                           c = \"y\",grid = True, edgecolors=\"black\",alpha =.8,linewidths =1,title = \"2016 Media Home Value vs Median Home Value \" )"
   ]
  },
  {
   "cell_type": "code",
   "execution_count": null,
   "metadata": {},
   "outputs": [],
   "source": [
    "#sort the data based on Average Rent\n",
    "combined_ca_1=combined_ca.sort_values([\"average rent\"],ascending=False)\n",
    "combined_ca_1.head(10)"
   ]
  },
  {
   "cell_type": "code",
   "execution_count": null,
   "metadata": {},
   "outputs": [],
   "source": [
    "#group by age range\n",
    "combined_ca_1_group=combined_ca_1.groupby([\"Age Range\"])\n",
    "avg_home_value = combined_ca_1_group[\"Median Home Value\"].mean()\n",
    "avg_household_income = combined_ca_1_group[\"Household Income\"].mean()\n",
    "avg_capita_income = combined_ca_1_group[\"Per Capita Income\"].mean()\n",
    "avg_rent = combined_ca_1_group[\"average rent\"].mean()\n",
    "avg_housebuild = combined_ca_1_group[\"Number of House Build in year\"].mean()\n",
    "combined_ca_1_group =pd.DataFrame({})"
   ]
  },
  {
   "cell_type": "code",
   "execution_count": null,
   "metadata": {},
   "outputs": [],
   "source": []
  }
 ],
 "metadata": {
  "kernelspec": {
   "display_name": "Python [default]",
   "language": "python",
   "name": "python3"
  },
  "language_info": {
   "codemirror_mode": {
    "name": "ipython",
    "version": 3
   },
   "file_extension": ".py",
   "mimetype": "text/x-python",
   "name": "python",
   "nbconvert_exporter": "python",
   "pygments_lexer": "ipython3",
   "version": "3.6.5"
  }
 },
 "nbformat": 4,
 "nbformat_minor": 2
}
