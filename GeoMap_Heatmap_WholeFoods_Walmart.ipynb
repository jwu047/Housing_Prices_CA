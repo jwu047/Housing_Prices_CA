{
 "cells": [
  {
   "cell_type": "code",
   "execution_count": 24,
   "metadata": {},
   "outputs": [],
   "source": [
    "import pandas as pd\n",
    "import numpy as np\n",
    "import requests\n",
    "from config import  gkey\n",
    "import gmaps\n",
    "import time\n",
    "import json"
   ]
  },
  {
   "cell_type": "code",
   "execution_count": 25,
   "metadata": {},
   "outputs": [
    {
     "data": {
      "text/html": [
       "<div>\n",
       "<style scoped>\n",
       "    .dataframe tbody tr th:only-of-type {\n",
       "        vertical-align: middle;\n",
       "    }\n",
       "\n",
       "    .dataframe tbody tr th {\n",
       "        vertical-align: top;\n",
       "    }\n",
       "\n",
       "    .dataframe thead th {\n",
       "        text-align: right;\n",
       "    }\n",
       "</style>\n",
       "<table border=\"1\" class=\"dataframe\">\n",
       "  <thead>\n",
       "    <tr style=\"text-align: right;\">\n",
       "      <th></th>\n",
       "      <th>Zipcode</th>\n",
       "      <th>City</th>\n",
       "      <th>State</th>\n",
       "      <th>CountyName</th>\n",
       "      <th>Population</th>\n",
       "      <th>Median Age</th>\n",
       "      <th>Household Income</th>\n",
       "      <th>Per Capita Income</th>\n",
       "      <th>Poverty Count</th>\n",
       "      <th>Poverty Rate</th>\n",
       "      <th>average rent</th>\n",
       "      <th>Median Home Value</th>\n",
       "      <th>Number of House Build in year</th>\n",
       "      <th>Avg_HomeValue</th>\n",
       "      <th>Employment Rate</th>\n",
       "      <th>Latitude</th>\n",
       "      <th>Longitude</th>\n",
       "      <th>Temp</th>\n",
       "    </tr>\n",
       "  </thead>\n",
       "  <tbody>\n",
       "    <tr>\n",
       "      <th>0</th>\n",
       "      <td>90001</td>\n",
       "      <td>Florence-Graham</td>\n",
       "      <td>CA</td>\n",
       "      <td>Los Angeles</td>\n",
       "      <td>57942.0</td>\n",
       "      <td>28.0</td>\n",
       "      <td>34323.0</td>\n",
       "      <td>11294.0</td>\n",
       "      <td>18902.0</td>\n",
       "      <td>32.622277</td>\n",
       "      <td>915.0</td>\n",
       "      <td>272200.0</td>\n",
       "      <td>1950.0</td>\n",
       "      <td>2.999500e+05</td>\n",
       "      <td>44.482413</td>\n",
       "      <td>33.97</td>\n",
       "      <td>-118.25</td>\n",
       "      <td>82.02</td>\n",
       "    </tr>\n",
       "    <tr>\n",
       "      <th>1</th>\n",
       "      <td>90002</td>\n",
       "      <td>Los Angeles</td>\n",
       "      <td>CA</td>\n",
       "      <td>Los Angeles</td>\n",
       "      <td>51826.0</td>\n",
       "      <td>27.5</td>\n",
       "      <td>32520.0</td>\n",
       "      <td>11212.0</td>\n",
       "      <td>18302.0</td>\n",
       "      <td>35.314321</td>\n",
       "      <td>902.0</td>\n",
       "      <td>248200.0</td>\n",
       "      <td>1951.0</td>\n",
       "      <td>2.946667e+05</td>\n",
       "      <td>40.938911</td>\n",
       "      <td>34.05</td>\n",
       "      <td>-118.24</td>\n",
       "      <td>82.62</td>\n",
       "    </tr>\n",
       "    <tr>\n",
       "      <th>2</th>\n",
       "      <td>90003</td>\n",
       "      <td>Los Angeles</td>\n",
       "      <td>CA</td>\n",
       "      <td>Los Angeles</td>\n",
       "      <td>70208.0</td>\n",
       "      <td>28.0</td>\n",
       "      <td>31878.0</td>\n",
       "      <td>10611.0</td>\n",
       "      <td>24556.0</td>\n",
       "      <td>34.976071</td>\n",
       "      <td>958.0</td>\n",
       "      <td>268500.0</td>\n",
       "      <td>1951.0</td>\n",
       "      <td>3.002417e+05</td>\n",
       "      <td>42.456700</td>\n",
       "      <td>34.05</td>\n",
       "      <td>-118.24</td>\n",
       "      <td>82.62</td>\n",
       "    </tr>\n",
       "    <tr>\n",
       "      <th>3</th>\n",
       "      <td>90004</td>\n",
       "      <td>Los Angeles</td>\n",
       "      <td>CA</td>\n",
       "      <td>Los Angeles</td>\n",
       "      <td>63095.0</td>\n",
       "      <td>35.5</td>\n",
       "      <td>43180.0</td>\n",
       "      <td>29194.0</td>\n",
       "      <td>12919.0</td>\n",
       "      <td>20.475473</td>\n",
       "      <td>1044.0</td>\n",
       "      <td>838000.0</td>\n",
       "      <td>1946.0</td>\n",
       "      <td>1.168492e+06</td>\n",
       "      <td>57.777954</td>\n",
       "      <td>34.05</td>\n",
       "      <td>-118.24</td>\n",
       "      <td>82.62</td>\n",
       "    </tr>\n",
       "    <tr>\n",
       "      <th>4</th>\n",
       "      <td>90005</td>\n",
       "      <td>Los Angeles</td>\n",
       "      <td>CA</td>\n",
       "      <td>Los Angeles</td>\n",
       "      <td>39338.0</td>\n",
       "      <td>33.9</td>\n",
       "      <td>31485.0</td>\n",
       "      <td>20265.0</td>\n",
       "      <td>11520.0</td>\n",
       "      <td>29.284661</td>\n",
       "      <td>943.0</td>\n",
       "      <td>672600.0</td>\n",
       "      <td>1947.0</td>\n",
       "      <td>7.051917e+05</td>\n",
       "      <td>58.897249</td>\n",
       "      <td>34.05</td>\n",
       "      <td>-118.24</td>\n",
       "      <td>82.62</td>\n",
       "    </tr>\n",
       "  </tbody>\n",
       "</table>\n",
       "</div>"
      ],
      "text/plain": [
       "   Zipcode             City State   CountyName  Population  Median Age  \\\n",
       "0    90001  Florence-Graham    CA  Los Angeles     57942.0        28.0   \n",
       "1    90002      Los Angeles    CA  Los Angeles     51826.0        27.5   \n",
       "2    90003      Los Angeles    CA  Los Angeles     70208.0        28.0   \n",
       "3    90004      Los Angeles    CA  Los Angeles     63095.0        35.5   \n",
       "4    90005      Los Angeles    CA  Los Angeles     39338.0        33.9   \n",
       "\n",
       "   Household Income  Per Capita Income  Poverty Count  Poverty Rate  \\\n",
       "0           34323.0            11294.0        18902.0     32.622277   \n",
       "1           32520.0            11212.0        18302.0     35.314321   \n",
       "2           31878.0            10611.0        24556.0     34.976071   \n",
       "3           43180.0            29194.0        12919.0     20.475473   \n",
       "4           31485.0            20265.0        11520.0     29.284661   \n",
       "\n",
       "   average rent  Median Home Value  Number of House Build in year  \\\n",
       "0         915.0           272200.0                         1950.0   \n",
       "1         902.0           248200.0                         1951.0   \n",
       "2         958.0           268500.0                         1951.0   \n",
       "3        1044.0           838000.0                         1946.0   \n",
       "4         943.0           672600.0                         1947.0   \n",
       "\n",
       "   Avg_HomeValue  Employment Rate  Latitude  Longitude   Temp  \n",
       "0   2.999500e+05        44.482413     33.97    -118.25  82.02  \n",
       "1   2.946667e+05        40.938911     34.05    -118.24  82.62  \n",
       "2   3.002417e+05        42.456700     34.05    -118.24  82.62  \n",
       "3   1.168492e+06        57.777954     34.05    -118.24  82.62  \n",
       "4   7.051917e+05        58.897249     34.05    -118.24  82.62  "
      ]
     },
     "execution_count": 25,
     "metadata": {},
     "output_type": "execute_result"
    }
   ],
   "source": [
    "#import csv files into notebook\n",
    "#combined Census, zillow and Open weather data\n",
    "combined_data = pd.read_csv(\"Combined_loc_CA.csv\")\n",
    "combined_data.head()"
   ]
  },
  {
   "cell_type": "code",
   "execution_count": 26,
   "metadata": {},
   "outputs": [
    {
     "data": {
      "text/html": [
       "<div>\n",
       "<style scoped>\n",
       "    .dataframe tbody tr th:only-of-type {\n",
       "        vertical-align: middle;\n",
       "    }\n",
       "\n",
       "    .dataframe tbody tr th {\n",
       "        vertical-align: top;\n",
       "    }\n",
       "\n",
       "    .dataframe thead th {\n",
       "        text-align: right;\n",
       "    }\n",
       "</style>\n",
       "<table border=\"1\" class=\"dataframe\">\n",
       "  <thead>\n",
       "    <tr style=\"text-align: right;\">\n",
       "      <th></th>\n",
       "      <th>Name</th>\n",
       "      <th>Latitude</th>\n",
       "      <th>Longitude</th>\n",
       "      <th>Address</th>\n",
       "    </tr>\n",
       "  </thead>\n",
       "  <tbody>\n",
       "    <tr>\n",
       "      <th>0</th>\n",
       "      <td>Whole Foods Market</td>\n",
       "      <td>34.045870</td>\n",
       "      <td>-118.257590</td>\n",
       "      <td>788 S Grand Ave, Los Angeles</td>\n",
       "    </tr>\n",
       "    <tr>\n",
       "      <th>1</th>\n",
       "      <td>Whole Foods Market</td>\n",
       "      <td>33.976712</td>\n",
       "      <td>-118.418102</td>\n",
       "      <td>12746 W Jefferson Blvd, Playa Vista</td>\n",
       "    </tr>\n",
       "    <tr>\n",
       "      <th>2</th>\n",
       "      <td>Whole Foods Market</td>\n",
       "      <td>34.022625</td>\n",
       "      <td>-118.438046</td>\n",
       "      <td>11666 National Blvd, Los Angeles</td>\n",
       "    </tr>\n",
       "    <tr>\n",
       "      <th>3</th>\n",
       "      <td>Whole Foods Market</td>\n",
       "      <td>34.061229</td>\n",
       "      <td>-118.446954</td>\n",
       "      <td>1050 Gayley Ave, Los Angeles</td>\n",
       "    </tr>\n",
       "    <tr>\n",
       "      <th>4</th>\n",
       "      <td>Whole Foods Market</td>\n",
       "      <td>34.053639</td>\n",
       "      <td>-118.467407</td>\n",
       "      <td>11737 San Vicente Blvd, Los Angeles</td>\n",
       "    </tr>\n",
       "  </tbody>\n",
       "</table>\n",
       "</div>"
      ],
      "text/plain": [
       "                 Name   Latitude   Longitude  \\\n",
       "0  Whole Foods Market  34.045870 -118.257590   \n",
       "1  Whole Foods Market  33.976712 -118.418102   \n",
       "2  Whole Foods Market  34.022625 -118.438046   \n",
       "3  Whole Foods Market  34.061229 -118.446954   \n",
       "4  Whole Foods Market  34.053639 -118.467407   \n",
       "\n",
       "                               Address  \n",
       "0         788 S Grand Ave, Los Angeles  \n",
       "1  12746 W Jefferson Blvd, Playa Vista  \n",
       "2     11666 National Blvd, Los Angeles  \n",
       "3         1050 Gayley Ave, Los Angeles  \n",
       "4  11737 San Vicente Blvd, Los Angeles  "
      ]
     },
     "execution_count": 26,
     "metadata": {},
     "output_type": "execute_result"
    }
   ],
   "source": [
    "#california whole foods market location data\n",
    "whole_foods_df = pd.read_csv(\"Whole Foods CA Location.csv\")\n",
    "whole_foods_df.head()"
   ]
  },
  {
   "cell_type": "code",
   "execution_count": 27,
   "metadata": {},
   "outputs": [
    {
     "data": {
      "text/html": [
       "<div>\n",
       "<style scoped>\n",
       "    .dataframe tbody tr th:only-of-type {\n",
       "        vertical-align: middle;\n",
       "    }\n",
       "\n",
       "    .dataframe tbody tr th {\n",
       "        vertical-align: top;\n",
       "    }\n",
       "\n",
       "    .dataframe thead th {\n",
       "        text-align: right;\n",
       "    }\n",
       "</style>\n",
       "<table border=\"1\" class=\"dataframe\">\n",
       "  <thead>\n",
       "    <tr style=\"text-align: right;\">\n",
       "      <th></th>\n",
       "      <th>Name</th>\n",
       "      <th>Latitude</th>\n",
       "      <th>Longitude</th>\n",
       "      <th>Address</th>\n",
       "    </tr>\n",
       "  </thead>\n",
       "  <tbody>\n",
       "    <tr>\n",
       "      <th>0</th>\n",
       "      <td>Walmart Supercenter</td>\n",
       "      <td>33.954813</td>\n",
       "      <td>-118.187613</td>\n",
       "      <td>4651 Firestone Blvd, South Gate</td>\n",
       "    </tr>\n",
       "    <tr>\n",
       "      <th>1</th>\n",
       "      <td>Walmart Supercenter</td>\n",
       "      <td>33.910008</td>\n",
       "      <td>-118.208162</td>\n",
       "      <td>2100 N Long Beach Blvd, Compton</td>\n",
       "    </tr>\n",
       "    <tr>\n",
       "      <th>2</th>\n",
       "      <td>Walmart</td>\n",
       "      <td>33.956942</td>\n",
       "      <td>-118.272099</td>\n",
       "      <td>150 E 88th St, Los Angeles</td>\n",
       "    </tr>\n",
       "    <tr>\n",
       "      <th>3</th>\n",
       "      <td>Walmart Supercenter</td>\n",
       "      <td>34.050425</td>\n",
       "      <td>-118.085373</td>\n",
       "      <td>1827 Walnut Grove Ave, Rosemead</td>\n",
       "    </tr>\n",
       "    <tr>\n",
       "      <th>4</th>\n",
       "      <td>Walmart Supercenter</td>\n",
       "      <td>33.984986</td>\n",
       "      <td>-118.104991</td>\n",
       "      <td>8500 Washington Blvd, Pico Rivera</td>\n",
       "    </tr>\n",
       "  </tbody>\n",
       "</table>\n",
       "</div>"
      ],
      "text/plain": [
       "                  Name   Latitude   Longitude  \\\n",
       "0  Walmart Supercenter  33.954813 -118.187613   \n",
       "1  Walmart Supercenter  33.910008 -118.208162   \n",
       "2              Walmart  33.956942 -118.272099   \n",
       "3  Walmart Supercenter  34.050425 -118.085373   \n",
       "4  Walmart Supercenter  33.984986 -118.104991   \n",
       "\n",
       "                             Address  \n",
       "0    4651 Firestone Blvd, South Gate  \n",
       "1    2100 N Long Beach Blvd, Compton  \n",
       "2         150 E 88th St, Los Angeles  \n",
       "3    1827 Walnut Grove Ave, Rosemead  \n",
       "4  8500 Washington Blvd, Pico Rivera  "
      ]
     },
     "execution_count": 27,
     "metadata": {},
     "output_type": "execute_result"
    }
   ],
   "source": [
    "#california walmart location data\n",
    "walmart_df = pd.read_csv(\"Walmart CA Location.csv\")\n",
    "walmart_df.head()"
   ]
  },
  {
   "cell_type": "markdown",
   "metadata": {},
   "source": [
    "# Heatmap - Median Home Value by Location"
   ]
  },
  {
   "cell_type": "code",
   "execution_count": 28,
   "metadata": {},
   "outputs": [],
   "source": [
    "# Configure gmaps with API key\n",
    "gmaps.configure(api_key=gkey)"
   ]
  },
  {
   "cell_type": "code",
   "execution_count": 29,
   "metadata": {},
   "outputs": [
    {
     "name": "stdout",
     "output_type": "stream",
     "text": [
      "106360.0\n",
      "2000001.0\n"
     ]
    }
   ],
   "source": [
    "# Store 'Lat' and 'Lng' into  locations \n",
    "locations = combined_data[[\"Latitude\", \"Longitude\"]].astype(float)\n",
    "\n",
    "# Convert Home Value/ Population to float and store\n",
    "# HINT: be sure to handle NaN values\n",
    "home_value = combined_data[\"Median Home Value\"].astype(float)\n",
    "population = combined_data[\"Population\"].astype(float)\n",
    "#max home value and poplulation\n",
    "print(population.max())\n",
    "print(home_value.max())"
   ]
  },
  {
   "cell_type": "code",
   "execution_count": 31,
   "metadata": {},
   "outputs": [
    {
     "data": {
      "application/vnd.jupyter.widget-view+json": {
       "model_id": "5edbc1361a14447c9dea9c4c20113577",
       "version_major": 2,
       "version_minor": 0
      },
      "text/plain": [
       "Figure(layout=FigureLayout(border='1px solid black', height='700px', margin='0 auto 0 auto', padding='1px', wi…"
      ]
     },
     "metadata": {},
     "output_type": "display_data"
    }
   ],
   "source": [
    "# Create a home value Heatmap layer\n",
    "fig = gmaps.figure()\n",
    "# Customize the size of the figure\n",
    "figure_layout = {\n",
    "    'width': '1000px',\n",
    "    'height': '700px',\n",
    "    'border': '1px solid black',\n",
    "    'padding': '1px',\n",
    "    'margin': '0 auto 0 auto'\n",
    "}\n",
    "fig = gmaps.figure(layout=figure_layout)\n",
    "\n",
    "heat_layer = gmaps.heatmap_layer(locations, weights=home_value, \n",
    "                                 dissipating=False, max_intensity=2000001,\n",
    "                                 point_radius = 0.08)\n",
    "\n",
    "# Adjust heat_layer setting to help with heatmap dissipating on zoom\n",
    "heat_layer.dissipating = False\n",
    "heat_layer.max_intensity = 2000001\n",
    "heat_layer.point_radius = 0.05\n",
    "\n",
    "fig.add_layer(heat_layer)\n",
    "fig\n"
   ]
  },
  {
   "cell_type": "markdown",
   "metadata": {},
   "source": [
    "# Heatmap - Population by Location"
   ]
  },
  {
   "cell_type": "code",
   "execution_count": 32,
   "metadata": {},
   "outputs": [
    {
     "data": {
      "application/vnd.jupyter.widget-view+json": {
       "model_id": "a6363b26790b4ed1b948677262af51e0",
       "version_major": 2,
       "version_minor": 0
      },
      "text/plain": [
       "Figure(layout=FigureLayout(border='1px solid black', height='1000px', margin='0 auto 0 auto', padding='1px', w…"
      ]
     },
     "metadata": {},
     "output_type": "display_data"
    }
   ],
   "source": [
    "# Create a population Heatmap layer\n",
    "fig_1 = gmaps.figure()\n",
    "# Customize the size of the figure\n",
    "figure_layout = {\n",
    "    'width': '700px',\n",
    "    'height': '1000px',\n",
    "    'border': '1px solid black',\n",
    "    'padding': '1px',\n",
    "    'margin': '0 auto 0 auto'\n",
    "}\n",
    "fig_1 = gmaps.figure(layout=figure_layout)\n",
    "\n",
    "\n",
    "heat_layer_1 = gmaps.heatmap_layer(locations, weights=population, \n",
    "                                 dissipating=False, max_intensity=106360,\n",
    "                                 point_radius = 0.08)\n",
    "\n",
    "# Adjust heat_layer setting to help with heatmap dissipating on zoom\n",
    "heat_layer_1.dissipating = False\n",
    "heat_layer_1.max_intensity = 106360\n",
    "heat_layer_1.point_radius = 0.05\n",
    "\n",
    "fig_1.add_layer(heat_layer_1)\n",
    "\n",
    "fig_1"
   ]
  },
  {
   "cell_type": "markdown",
   "metadata": {},
   "source": [
    "# Mark Whole Foods Market Location on Home Value Heatmap"
   ]
  },
  {
   "cell_type": "code",
   "execution_count": 15,
   "metadata": {},
   "outputs": [
    {
     "name": "stdout",
     "output_type": "stream",
     "text": [
      "79\n"
     ]
    },
    {
     "data": {
      "application/vnd.jupyter.widget-view+json": {
       "model_id": "d98bb7449691499a9d5d8225f3bfa7c9",
       "version_major": 2,
       "version_minor": 0
      },
      "text/plain": [
       "Figure(layout=FigureLayout(border='1px solid black', height='1000px', margin='0 auto 0 auto', padding='1px', w…"
      ]
     },
     "metadata": {},
     "output_type": "display_data"
    }
   ],
   "source": [
    "# Create a list containing coordinates\n",
    "latitude_wf = whole_foods_df[\"Latitude\"]\n",
    "latitude_wf = latitude_wf.values\n",
    "longitude_wf = whole_foods_df[\"Longitude\"]\n",
    "longitude_wf= longitude_wf.values\n",
    "coordinates_wf = list(zip(latitude_wf,longitude_wf))\n",
    "print(len(coordinates_wf))\n",
    "#mark whole foods locations on fig\n",
    "wf_markers = gmaps.marker_layer(coordinates_wf)\n",
    "fig.add_layer(wf_markers)\n",
    "fig"
   ]
  },
  {
   "cell_type": "markdown",
   "metadata": {},
   "source": [
    "# Mark Walmart Location on Home Value Heatmap"
   ]
  },
  {
   "cell_type": "code",
   "execution_count": 16,
   "metadata": {},
   "outputs": [
    {
     "name": "stdout",
     "output_type": "stream",
     "text": [
      "281\n"
     ]
    }
   ],
   "source": [
    "# Create a list containing coordinates\n",
    "latitude_wl = walmart_df[\"Latitude\"]\n",
    "latitude_wl = latitude_wl.values\n",
    "longitude_wl = walmart_df[\"Longitude\"]\n",
    "longitude_wl = longitude_wl.values\n",
    "coordinates_wl = list(zip(latitude_wl,longitude_wl))\n",
    "print(len(coordinates_wl))\n"
   ]
  },
  {
   "cell_type": "code",
   "execution_count": 21,
   "metadata": {
    "scrolled": true
   },
   "outputs": [
    {
     "data": {
      "application/vnd.jupyter.widget-view+json": {
       "model_id": "d98bb7449691499a9d5d8225f3bfa7c9",
       "version_major": 2,
       "version_minor": 0
      },
      "text/plain": [
       "Figure(layout=FigureLayout(border='1px solid black', height='1000px', margin='0 auto 0 auto', padding='1px', w…"
      ]
     },
     "metadata": {},
     "output_type": "display_data"
    }
   ],
   "source": [
    "# Create walmart symbol layer\n",
    "walmart_layer = gmaps.symbol_layer(\n",
    "    coordinates_wl, fill_color='rgba(0, 150, 0, 0.4)',\n",
    "    stroke_color='rgba(0, 0, 150, 0.4)', scale=5\n",
    ")\n",
    "#mark walmart locations on fig\n",
    "fig.add_layer(walmart_layer)\n",
    "fig"
   ]
  },
  {
   "cell_type": "markdown",
   "metadata": {},
   "source": [
    "# Pin Walmart Location on Population Heatmap"
   ]
  },
  {
   "cell_type": "code",
   "execution_count": 19,
   "metadata": {
    "scrolled": true
   },
   "outputs": [
    {
     "data": {
      "application/vnd.jupyter.widget-view+json": {
       "model_id": "0a946a2ba3604058935fbcf640df5e90",
       "version_major": 2,
       "version_minor": 0
      },
      "text/plain": [
       "Figure(layout=FigureLayout(border='1px solid black', height='1000px', margin='0 auto 0 auto', padding='1px', w…"
      ]
     },
     "metadata": {},
     "output_type": "display_data"
    }
   ],
   "source": [
    "#mark walmart locations on population fig\n",
    "fig_1.add_layer(walmart_layer)\n",
    "fig_1"
   ]
  },
  {
   "cell_type": "code",
   "execution_count": null,
   "metadata": {},
   "outputs": [],
   "source": []
  }
 ],
 "metadata": {
  "kernelspec": {
   "display_name": "Python 3",
   "language": "python",
   "name": "python3"
  },
  "language_info": {
   "codemirror_mode": {
    "name": "ipython",
    "version": 3
   },
   "file_extension": ".py",
   "mimetype": "text/x-python",
   "name": "python",
   "nbconvert_exporter": "python",
   "pygments_lexer": "ipython3",
   "version": "3.6.5"
  }
 },
 "nbformat": 4,
 "nbformat_minor": 2
}
