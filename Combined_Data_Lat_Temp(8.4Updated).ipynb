{
 "cells": [
  {
   "cell_type": "code",
   "execution_count": 71,
   "metadata": {},
   "outputs": [],
   "source": [
    "import matplotlib.pyplot as plt\n",
    "import pandas as pd\n",
    "import numpy as np\n",
    "import requests\n",
    "from citipy import citipy\n",
    "from census import Census\n",
    "from config import  gkey\n",
    "import gmaps\n",
    "import time\n",
    "from us import states\n",
    "import json"
   ]
  },
  {
   "cell_type": "code",
   "execution_count": 2,
   "metadata": {},
   "outputs": [
    {
     "data": {
      "text/html": [
       "<div>\n",
       "<style scoped>\n",
       "    .dataframe tbody tr th:only-of-type {\n",
       "        vertical-align: middle;\n",
       "    }\n",
       "\n",
       "    .dataframe tbody tr th {\n",
       "        vertical-align: top;\n",
       "    }\n",
       "\n",
       "    .dataframe thead th {\n",
       "        text-align: right;\n",
       "    }\n",
       "</style>\n",
       "<table border=\"1\" class=\"dataframe\">\n",
       "  <thead>\n",
       "    <tr style=\"text-align: right;\">\n",
       "      <th></th>\n",
       "      <th>Zipcode</th>\n",
       "      <th>City</th>\n",
       "      <th>State</th>\n",
       "      <th>CountyName</th>\n",
       "      <th>Population</th>\n",
       "      <th>Median Age</th>\n",
       "      <th>Household Income</th>\n",
       "      <th>Per Capita Income</th>\n",
       "      <th>Poverty Count</th>\n",
       "      <th>Poverty Rate</th>\n",
       "      <th>average rent</th>\n",
       "      <th>Median Home Value</th>\n",
       "      <th>Number of House Build in year</th>\n",
       "      <th>Avg_HomeValue</th>\n",
       "      <th>Employment Rate</th>\n",
       "    </tr>\n",
       "  </thead>\n",
       "  <tbody>\n",
       "    <tr>\n",
       "      <th>0</th>\n",
       "      <td>90001</td>\n",
       "      <td>Florence-Graham</td>\n",
       "      <td>CA</td>\n",
       "      <td>Los Angeles</td>\n",
       "      <td>57942.0</td>\n",
       "      <td>28.0</td>\n",
       "      <td>34323.0</td>\n",
       "      <td>11294.0</td>\n",
       "      <td>18902.0</td>\n",
       "      <td>32.622277</td>\n",
       "      <td>915.0</td>\n",
       "      <td>272200.0</td>\n",
       "      <td>1950.0</td>\n",
       "      <td>2.999500e+05</td>\n",
       "      <td>44.482413</td>\n",
       "    </tr>\n",
       "    <tr>\n",
       "      <th>1</th>\n",
       "      <td>90002</td>\n",
       "      <td>Los Angeles</td>\n",
       "      <td>CA</td>\n",
       "      <td>Los Angeles</td>\n",
       "      <td>51826.0</td>\n",
       "      <td>27.5</td>\n",
       "      <td>32520.0</td>\n",
       "      <td>11212.0</td>\n",
       "      <td>18302.0</td>\n",
       "      <td>35.314321</td>\n",
       "      <td>902.0</td>\n",
       "      <td>248200.0</td>\n",
       "      <td>1951.0</td>\n",
       "      <td>2.946667e+05</td>\n",
       "      <td>40.938911</td>\n",
       "    </tr>\n",
       "    <tr>\n",
       "      <th>2</th>\n",
       "      <td>90003</td>\n",
       "      <td>Los Angeles</td>\n",
       "      <td>CA</td>\n",
       "      <td>Los Angeles</td>\n",
       "      <td>70208.0</td>\n",
       "      <td>28.0</td>\n",
       "      <td>31878.0</td>\n",
       "      <td>10611.0</td>\n",
       "      <td>24556.0</td>\n",
       "      <td>34.976071</td>\n",
       "      <td>958.0</td>\n",
       "      <td>268500.0</td>\n",
       "      <td>1951.0</td>\n",
       "      <td>3.002417e+05</td>\n",
       "      <td>42.456700</td>\n",
       "    </tr>\n",
       "    <tr>\n",
       "      <th>3</th>\n",
       "      <td>90004</td>\n",
       "      <td>Los Angeles</td>\n",
       "      <td>CA</td>\n",
       "      <td>Los Angeles</td>\n",
       "      <td>63095.0</td>\n",
       "      <td>35.5</td>\n",
       "      <td>43180.0</td>\n",
       "      <td>29194.0</td>\n",
       "      <td>12919.0</td>\n",
       "      <td>20.475473</td>\n",
       "      <td>1044.0</td>\n",
       "      <td>838000.0</td>\n",
       "      <td>1946.0</td>\n",
       "      <td>1.168492e+06</td>\n",
       "      <td>57.777954</td>\n",
       "    </tr>\n",
       "    <tr>\n",
       "      <th>4</th>\n",
       "      <td>90005</td>\n",
       "      <td>Los Angeles</td>\n",
       "      <td>CA</td>\n",
       "      <td>Los Angeles</td>\n",
       "      <td>39338.0</td>\n",
       "      <td>33.9</td>\n",
       "      <td>31485.0</td>\n",
       "      <td>20265.0</td>\n",
       "      <td>11520.0</td>\n",
       "      <td>29.284661</td>\n",
       "      <td>943.0</td>\n",
       "      <td>672600.0</td>\n",
       "      <td>1947.0</td>\n",
       "      <td>7.051917e+05</td>\n",
       "      <td>58.897249</td>\n",
       "    </tr>\n",
       "  </tbody>\n",
       "</table>\n",
       "</div>"
      ],
      "text/plain": [
       "   Zipcode             City State   CountyName  Population  Median Age  \\\n",
       "0    90001  Florence-Graham    CA  Los Angeles     57942.0        28.0   \n",
       "1    90002      Los Angeles    CA  Los Angeles     51826.0        27.5   \n",
       "2    90003      Los Angeles    CA  Los Angeles     70208.0        28.0   \n",
       "3    90004      Los Angeles    CA  Los Angeles     63095.0        35.5   \n",
       "4    90005      Los Angeles    CA  Los Angeles     39338.0        33.9   \n",
       "\n",
       "   Household Income  Per Capita Income  Poverty Count  Poverty Rate  \\\n",
       "0           34323.0            11294.0        18902.0     32.622277   \n",
       "1           32520.0            11212.0        18302.0     35.314321   \n",
       "2           31878.0            10611.0        24556.0     34.976071   \n",
       "3           43180.0            29194.0        12919.0     20.475473   \n",
       "4           31485.0            20265.0        11520.0     29.284661   \n",
       "\n",
       "   average rent  Median Home Value  Number of House Build in year  \\\n",
       "0         915.0           272200.0                         1950.0   \n",
       "1         902.0           248200.0                         1951.0   \n",
       "2         958.0           268500.0                         1951.0   \n",
       "3        1044.0           838000.0                         1946.0   \n",
       "4         943.0           672600.0                         1947.0   \n",
       "\n",
       "   Avg_HomeValue  Employment Rate  \n",
       "0   2.999500e+05        44.482413  \n",
       "1   2.946667e+05        40.938911  \n",
       "2   3.002417e+05        42.456700  \n",
       "3   1.168492e+06        57.777954  \n",
       "4   7.051917e+05        58.897249  "
      ]
     },
     "execution_count": 2,
     "metadata": {},
     "output_type": "execute_result"
    }
   ],
   "source": [
    "combined_data = pd.read_csv(\"Census_Zillow_Combined_CA.csv\")\n",
    "combined_data.head()"
   ]
  },
  {
   "cell_type": "code",
   "execution_count": 34,
   "metadata": {},
   "outputs": [],
   "source": [
    "api_key = \"288538c4c4aa958caf000f4ac70ef2f0\"\n",
    "url = f\"http://api.openweathermap.org/data/2.5/weather?units=Imperial&APPID={api_key}&q=\"\n",
    "\n",
    "combined_data[\"Latitude\"] = \"\"\n",
    "combined_data[\"Longitude\"] = \"\"\n",
    "combined_data[\"Temp\"] = \"\"\n",
    "\n",
    "for index, row in combined_data.iterrows():\n",
    "    city = row[\"City\"]+\",us\"\n",
    "    response = requests.get(url + city).json()\n",
    "    \n",
    "    try:\n",
    "        combined_data.loc[index, \"Latitude\"] = response[\"coord\"][\"lat\"]\n",
    "        combined_data.loc[index, \"Longitude\"] = response[\"coord\"][\"lon\"]\n",
    "        combined_data.loc[index, \"Temp\"] = response[\"main\"][\"temp\"]\n",
    "        \n",
    "    except:\n",
    "        pass\n",
    "    \n",
    "combined_data.head()\n",
    "#csv\n",
    "combined_data.to_csv(\"Combined_loc_CA.csv\",index = False)"
   ]
  },
  {
   "cell_type": "code",
   "execution_count": 48,
   "metadata": {},
   "outputs": [
    {
     "data": {
      "text/plain": [
       "Zipcode                          1067\n",
       "City                             1067\n",
       "State                            1067\n",
       "CountyName                       1067\n",
       "Population                       1067\n",
       "Median Age                       1067\n",
       "Household Income                 1067\n",
       "Per Capita Income                1067\n",
       "Poverty Count                    1067\n",
       "Poverty Rate                     1067\n",
       "average rent                     1067\n",
       "Median Home Value                1067\n",
       "Number of House Build in year    1067\n",
       "Avg_HomeValue                    1067\n",
       "Employment Rate                  1067\n",
       "Latitude                         1067\n",
       "Longitude                        1067\n",
       "Temp                             1067\n",
       "dtype: int64"
      ]
     },
     "execution_count": 48,
     "metadata": {},
     "output_type": "execute_result"
    }
   ],
   "source": [
    "# limited the lat and lng within California  \"min_lat\": 32.5121,\"max_lat\": 42.0126,\"min_lng\": -124.6509,\"max_lng\": -114.1315\n",
    "combined_data = combined_data[combined_data[\"Latitude\"] != \"\"]\n",
    "combined_data = combined_data[combined_data[\"Latitude\"] >= 32.5121]\n",
    "combined_data = combined_data[combined_data[\"Longitude\"] <= -114.1315]\n",
    "combined_data = combined_data[combined_data[\"Longitude\"] >= -124.6509]\n",
    "combined_data.count()"
   ]
  },
  {
   "cell_type": "code",
   "execution_count": 49,
   "metadata": {},
   "outputs": [
    {
     "data": {
      "image/png": "[encoded data removed]",
      "text/plain": [
       "<Figure size 432x288 with 1 Axes>"
      ]
     },
     "metadata": {},
     "output_type": "display_data"
    }
   ],
   "source": [
    "plt.scatter(combined_data[\"Latitude\"], combined_data[\"Median Home Value\"], marker=\"o\", facecolor=\"blue\", edgecolor=\"black\")\n",
    "plt.title(\"City Latitude vs. Median Home Value\")\n",
    "plt.ylabel(\"Median Home Value ($)\")\n",
    "plt.xlabel(\"Latitude\")\n",
    "plt.grid(True)"
   ]
  },
  {
   "cell_type": "code",
   "execution_count": 50,
   "metadata": {},
   "outputs": [
    {
     "data": {
      "image/png": "[encoded data removed]",
      "text/plain": [
       "<Figure size 432x288 with 1 Axes>"
      ]
     },
     "metadata": {},
     "output_type": "display_data"
    }
   ],
   "source": [
    "plt.scatter(combined_data[\"Temp\"], combined_data[\"Median Home Value\"], marker=\"o\", facecolor=\"blue\", edgecolor=\"black\")\n",
    "plt.title(\"City Temperature vs. Median Home Value\")\n",
    "plt.ylabel(\"Median Home Value ($)\")\n",
    "plt.xlabel(\"Temperature (F)\")\n",
    "plt.grid(True)"
   ]
  },
  {
   "cell_type": "markdown",
   "metadata": {},
   "source": [
    "# Heatmap by Median Home Value"
   ]
  },
  {
   "cell_type": "code",
   "execution_count": 51,
   "metadata": {},
   "outputs": [],
   "source": [
    "# Configure gmaps with API key\n",
    "gmaps.configure(api_key=gkey)"
   ]
  },
  {
   "cell_type": "code",
   "execution_count": 63,
   "metadata": {},
   "outputs": [
    {
     "name": "stdout",
     "output_type": "stream",
     "text": [
      "106360.0\n",
      "2000001.0\n"
     ]
    }
   ],
   "source": [
    "# Store 'Lat' and 'Lng' into  locations \n",
    "locations = combined_data[[\"Latitude\", \"Longitude\"]].astype(float)\n",
    "\n",
    "# Convert Home Value/ Population to float and store\n",
    "# HINT: be sure to handle NaN values\n",
    "home_value = combined_data[\"Median Home Value\"].astype(float)\n",
    "population = combined_data[\"Population\"].astype(float)\n",
    "#max home value and poplulation\n",
    "print(population.max())\n",
    "print(home_value.max())"
   ]
  },
  {
   "cell_type": "code",
   "execution_count": 64,
   "metadata": {},
   "outputs": [
    {
     "data": {
      "application/vnd.jupyter.widget-view+json": {
       "model_id": "14fe2a73f78444ce8a9af782dd2c5431",
       "version_major": 2,
       "version_minor": 0
      },
      "text/plain": [
       "Figure(layout=FigureLayout(height='420px'))"
      ]
     },
     "metadata": {},
     "output_type": "display_data"
    }
   ],
   "source": [
    "# Create a home value Heatmap layer\n",
    "fig = gmaps.figure()\n",
    "\n",
    "heat_layer = gmaps.heatmap_layer(locations, weights=home_value, \n",
    "                                 dissipating=False, max_intensity=2000001,\n",
    "                                 point_radius = 0.08)\n",
    "\n",
    "# Adjust heat_layer setting to help with heatmap dissipating on zoom\n",
    "heat_layer.dissipating = False\n",
    "heat_layer.max_intensity = 2000001\n",
    "heat_layer.point_radius = 0.08\n",
    "\n",
    "fig.add_layer(heat_layer)\n",
    "\n",
    "fig"
   ]
  },
  {
   "cell_type": "code",
   "execution_count": 66,
   "metadata": {},
   "outputs": [
    {
     "data": {
      "application/vnd.jupyter.widget-view+json": {
       "model_id": "fd470feed357487ebfc4ed66a7a5dff9",
       "version_major": 2,
       "version_minor": 0
      },
      "text/plain": [
       "Figure(layout=FigureLayout(height='420px'))"
      ]
     },
     "metadata": {},
     "output_type": "display_data"
    }
   ],
   "source": [
    "# Create a home value Heatmap layer\n",
    "fig = gmaps.figure()\n",
    "\n",
    "heat_layer_1 = gmaps.heatmap_layer(locations, weights=population, \n",
    "                                 dissipating=False, max_intensity=106360,\n",
    "                                 point_radius = 0.08)\n",
    "\n",
    "# Adjust heat_layer setting to help with heatmap dissipating on zoom\n",
    "heat_layer_1.dissipating = False\n",
    "heat_layer_1.max_intensity = 106360\n",
    "heat_layer_1.point_radius = 0.08\n",
    "\n",
    "fig.add_layer(heat_layer_1)\n",
    "\n",
    "fig"
   ]
  },
  {
   "cell_type": "markdown",
   "metadata": {},
   "source": [
    "# Search Whole Foods Market Locations"
   ]
  },
  {
   "cell_type": "code",
   "execution_count": 78,
   "metadata": {},
   "outputs": [
    {
     "name": "stdout",
     "output_type": "stream",
     "text": [
      "{\n",
      "    \"html_attributions\": [],\n",
      "    \"results\": [],\n",
      "    \"status\": \"INVALID_REQUEST\"\n",
      "}\n",
      "{\n",
      "    \"html_attributions\": [],\n",
      "    \"results\": [],\n",
      "    \"status\": \"INVALID_REQUEST\"\n",
      "}\n"
     ]
    }
   ],
   "source": [
    "#create list for whole foods locations\n",
    "lat=[]\n",
    "lng=[]\n",
    "counter =0\n",
    "# geocoordinates\n",
    "for target_coordinate in locations:\n",
    "    target_search = \"Whole Foods Market\"\n",
    "    target_radius = 8000\n",
    "    target_type = \"grocery\"\n",
    "\n",
    "# set up a parameters dictionary\n",
    "    params = {\n",
    "        \"location\": target_coordinates,\n",
    "        \"keyword\": target_search,\n",
    "        \"radius\": target_radius,\n",
    "        \"type\": target_type,\n",
    "        \"key\": gkey\n",
    "    }\n",
    "\n",
    "# base url\n",
    "    base_url = \"https://maps.googleapis.com/maps/api/place/nearbysearch/json\"\n",
    "\n",
    "# run a request using our params dictionary\n",
    "    response = requests.get(base_url, params=params)\n",
    "# convert response to json\n",
    "    places_data = response.json()\n",
    "    counter+=1\n",
    "    try:\n",
    "        print(json.dumps(places_data, indent=4, sort_keys=True))\n",
    "    except:\n",
    "        pass"
   ]
  },
  {
   "cell_type": "code",
   "execution_count": null,
   "metadata": {},
   "outputs": [],
   "source": []
  }
 ],
 "metadata": {
  "kernelspec": {
   "display_name": "Python 3",
   "language": "python",
   "name": "python3"
  },
  "language_info": {
   "codemirror_mode": {
    "name": "ipython",
    "version": 3
   },
   "file_extension": ".py",
   "mimetype": "text/x-python",
   "name": "python",
   "nbconvert_exporter": "python",
   "pygments_lexer": "ipython3",
   "version": "3.6.5"
  }
 },
 "nbformat": 4,
 "nbformat_minor": 2
}
